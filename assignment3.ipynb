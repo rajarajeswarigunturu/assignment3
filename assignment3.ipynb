{
 "cells": [
  {
   "cell_type": "code",
   "execution_count": 14,
   "id": "c2aa1f3c",
   "metadata": {},
   "outputs": [],
   "source": [
    "#1. Why are functions advantageous to have in your programs?\n",
    "# A.There is no need to write code again and again in the same \n",
    "# program or in any other programs, by using functions. programs \n",
    "# are very easy to write, to read by using functions. "
   ]
  },
  {
   "cell_type": "code",
   "execution_count": 15,
   "id": "dc70fdd6",
   "metadata": {},
   "outputs": [],
   "source": [
    "# 2. When does the code in a function run: when its specified or\n",
    "# when its called?\n",
    "# A. the code in a function runs when it is called."
   ]
  },
  {
   "cell_type": "code",
   "execution_count": 16,
   "id": "361f4773",
   "metadata": {},
   "outputs": [],
   "source": [
    "# 3. What statement creates a function?\n",
    "# def is the statement which creates a function."
   ]
  },
  {
   "cell_type": "code",
   "execution_count": 17,
   "id": "23c5756d",
   "metadata": {},
   "outputs": [],
   "source": [
    "#4. What is the difference between a function and a function call?\n",
    "# A. function is used to do a specific task .A function call is a\n",
    "# request made by a program to perform a specific task."
   ]
  },
  {
   "cell_type": "code",
   "execution_count": 18,
   "id": "74d8a942",
   "metadata": {},
   "outputs": [],
   "source": [
    "# 5. How many global scopes are there in a Python program? \n",
    "# How many local scopes?\n",
    "# A. In python, there is one global scope. And local scopes\n",
    "# are created when a function is call."
   ]
  },
  {
   "cell_type": "code",
   "execution_count": 19,
   "id": "f0151d44",
   "metadata": {},
   "outputs": [],
   "source": [
    "#6. What happens to variables in a local scope when the \n",
    "# function call returns?\n",
    "# A.If we call the variable in the local scope of the function, \n",
    "# it will look in the local scope first."
   ]
  },
  {
   "cell_type": "code",
   "execution_count": 21,
   "id": "57cec709",
   "metadata": {},
   "outputs": [],
   "source": [
    "#7. What is the concept of a return value? Is it possible to \n",
    "# have a return value in an expression?\n",
    "#A.A python function can return a specified value anywhere\n",
    "# within that function by using a return statement, which ends \n",
    "# the function under execution and then returns a value to the \n",
    "# caller.\n",
    "#\n",
    "#\n",
    "#"
   ]
  },
  {
   "cell_type": "code",
   "execution_count": 23,
   "id": "ca1e2331",
   "metadata": {},
   "outputs": [],
   "source": [
    "#8. If a function does not have a return statement, what is the \n",
    "# return value of a call to that function?\n",
    "#\n",
    "#\n",
    "#"
   ]
  },
  {
   "cell_type": "code",
   "execution_count": 24,
   "id": "f2869ce5",
   "metadata": {},
   "outputs": [],
   "source": [
    "#9. How do you make a function variable refer to the global variable?\n",
    "#A. To globalize a local variable, use the global keyword with in a \n",
    "# function's definition."
   ]
  },
  {
   "cell_type": "code",
   "execution_count": 25,
   "id": "8a02dbbe",
   "metadata": {},
   "outputs": [],
   "source": [
    "#10. What is the data type of None?\n",
    "# A.None keyword is an object and is a data type of none type class.\n",
    "# None datatype doesn’t contain any value.\n",
    "#None keyword is used to define a null variable or object."
   ]
  },
  {
   "cell_type": "code",
   "execution_count": 26,
   "id": "3e364d7f",
   "metadata": {},
   "outputs": [],
   "source": [
    "#11. What does the sentence import areallyourpetsnamederic do?\n",
    "#\n",
    "#\n",
    "#\n",
    "#"
   ]
  },
  {
   "cell_type": "code",
   "execution_count": 27,
   "id": "48d33aa3",
   "metadata": {},
   "outputs": [],
   "source": [
    "#12. If you had a bacon() feature in a spam module, what would you\n",
    "# call it after importing spam?\n",
    "#A.\n",
    "#\n",
    "#\n",
    "#"
   ]
  },
  {
   "cell_type": "code",
   "execution_count": 28,
   "id": "32deacaa",
   "metadata": {},
   "outputs": [],
   "source": [
    "#13. What can you do to save a programme from \n",
    "#crashing if it encounters an error?\n",
    "#A. we use try block and except block in the program to avoid \n",
    "#crashing.\n"
   ]
  },
  {
   "cell_type": "code",
   "execution_count": 29,
   "id": "6f382f3f",
   "metadata": {},
   "outputs": [],
   "source": [
    "#14. What is the purpose of the try clause? \n",
    "#What is the purpose of the except clause?\n",
    "#A. The idea of the try-except clause is to handle exceptions(errors)\n",
    "# occurs at runtime. \n",
    "# The purpose of the try-except block is to try the code with \n",
    "# the exception (s) to catch. If an exception is raised,\n",
    "# it jumps straight into the except block. And except block\n",
    "# executed if an exception occured in the try block."
   ]
  },
  {
   "cell_type": "code",
   "execution_count": null,
   "id": "7d1db34e",
   "metadata": {},
   "outputs": [],
   "source": []
  }
 ],
 "metadata": {
  "kernelspec": {
   "display_name": "Python 3 (ipykernel)",
   "language": "python",
   "name": "python3"
  },
  "language_info": {
   "codemirror_mode": {
    "name": "ipython",
    "version": 3
   },
   "file_extension": ".py",
   "mimetype": "text/x-python",
   "name": "python",
   "nbconvert_exporter": "python",
   "pygments_lexer": "ipython3",
   "version": "3.9.7"
  }
 },
 "nbformat": 4,
 "nbformat_minor": 5
}
